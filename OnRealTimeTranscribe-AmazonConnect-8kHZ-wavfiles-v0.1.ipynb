{
 "cells": [
  {
   "cell_type": "markdown",
   "id": "26bff6cb",
   "metadata": {},
   "source": [
    "# real-time call transcribe with es-US on Amazon Connect 8kHZ wav files\n",
    "\n"
   ]
  },
  {
   "cell_type": "markdown",
   "id": "c15fda9c",
   "metadata": {},
   "source": [
    "### *确定你本机配置了aksk\n",
    "### *从S3上下载了录音文件到本地目录\n",
    "aws s3 sync s3://xxx/ .\n"
   ]
  },
  {
   "cell_type": "code",
   "execution_count": null,
   "id": "221b5dbf",
   "metadata": {},
   "outputs": [],
   "source": [
    "# step3. Generate hypothesis.txt by looping real-time calling Amazon Transcribe\n",
    "!pip install aiofile amazon-transcribe "
   ]
  },
  {
   "cell_type": "code",
   "execution_count": null,
   "id": "c689f884",
   "metadata": {
    "tags": []
   },
   "outputs": [],
   "source": [
    "# remove punctuation\n",
    "def norm( line ):\n",
    "    punctuation = r\"\"\"!\"#$%&'()*+,-./:;<=>?@[\\]^_`{|}~“”？，！【】（）、。：；’‘……￥·\"\"\"\n",
    "    dicts={i:'' for i in punctuation}\n",
    "    punc_table=str.maketrans(dicts)\n",
    "    line=line.translate(punc_table)\n",
    "    return line"
   ]
  },
  {
   "cell_type": "code",
   "execution_count": null,
   "id": "f3751abf",
   "metadata": {
    "tags": []
   },
   "outputs": [],
   "source": [
    "%%time\n",
    "#Amazon Transcribe Streaming SDK https://pypi.org/project/amazon-transcribe/\n",
    "import os\n",
    "import asyncio\n",
    "# This example uses aiofile for asynchronous file reads.\n",
    "# It's not a dependency of the project but can be installed\n",
    "# with `pip install aiofile`.\n",
    "import aiofile\n",
    "import nest_asyncio\n",
    "from datetime import datetime\n",
    "\n",
    "from amazon_transcribe.client import TranscribeStreamingClient\n",
    "from amazon_transcribe.handlers import TranscriptResultStreamHandler\n",
    "from amazon_transcribe.model import TranscriptEvent\n",
    "\n",
    "nest_asyncio.apply()\n",
    "globalresult = \"\"\n",
    "\"\"\"\n",
    "Here's an example of a custom event handler you can extend to\n",
    "process the returned transcription results as needed. This\n",
    "handler will simply print the text out to your interpreter.\n",
    "\"\"\"\n",
    "class MyEventHandler(TranscriptResultStreamHandler):\n",
    "    \n",
    "    async def handle_transcript_event(self, transcript_event: TranscriptEvent):\n",
    "        # This handler can be implemented to handle transcriptions as needed.\n",
    "        # Here's an example to get started.\n",
    "        global globalresult\n",
    "        results = transcript_event.transcript.results\n",
    "        \n",
    "        for result in results:\n",
    "            if( not result.is_partial):\n",
    "                for alt in result.alternatives:\n",
    "                    globalresult = globalresult +\" \"+ alt.transcript\n",
    "                    #print(globalresult)\n",
    "\n",
    "async def basic_transcribe(audiofile):\n",
    "    # Setup up our client with our chosen AWS region\n",
    "    client = TranscribeStreamingClient(region=\"us-east-1\")\n",
    "\n",
    "    # Start transcription to generate our async stream\n",
    "    stream = await client.start_stream_transcription(\n",
    "        language_code=\"es-US\",\n",
    "        media_sample_rate_hz=8000,\n",
    "        media_encoding=\"pcm\",\n",
    "    )\n",
    "\n",
    "    async def write_chunks():\n",
    "        # An example file can be found at tests/integration/assets/test.wav\n",
    "        # NOTE: For pre-recorded files longer than 5 minutes, the sent audio\n",
    "        # chunks should be rate limited to match the realtime bitrate of the\n",
    "        # audio stream to avoid signing issues.\n",
    "        async with aiofile.AIOFile(audiofile, 'rb') as afp:\n",
    "            reader = aiofile.Reader(afp, chunk_size=1024 * 8)\n",
    "            async for chunk in reader:\n",
    "                await stream.input_stream.send_audio_event(audio_chunk=chunk)\n",
    "        await stream.input_stream.end_stream()\n",
    "\n",
    "    # Instantiate our handler and start processing events\n",
    "    handler = MyEventHandler(stream.output_stream)\n",
    "    await asyncio.gather(write_chunks(), handler.handle_events())"
   ]
  },
  {
   "cell_type": "code",
   "execution_count": null,
   "id": "aa6e5445",
   "metadata": {
    "tags": []
   },
   "outputs": [],
   "source": [
    "import os\n",
    "\n",
    "path =\"./wav-es-US\"\n",
    "#we shall store all the file names in this list\n",
    "filelist = []\n",
    "\n",
    "for root, dirs, files in os.walk(path):\n",
    "\tfor file in files:\n",
    "        #append the file name to the list\n",
    "\t\tfilelist.append(os.path.join(root,file))\n",
    "\n",
    "#print all the file names\n",
    "#for name in filelist:\n",
    "#    print(name)"
   ]
  },
  {
   "cell_type": "code",
   "execution_count": null,
   "id": "048cb150",
   "metadata": {
    "tags": []
   },
   "outputs": [],
   "source": [
    "#hypothesis\n",
    "loop = asyncio.get_event_loop()\n",
    "#wav_files = ['file.wav']\n",
    "index = 0\n",
    "print(\"---start-----\")\n",
    "for audiofile in filelist:\n",
    "    if not audiofile.endswith('.wav'):\n",
    "        print(f\"{audiofile} is NOT proper file format\")\n",
    "        continue\n",
    "    print(\"Audio:  {0}\".format(audiofile))\n",
    "    #audiofile = './wav-es-US/'+audiofile\n",
    "    t1 = datetime.now()\n",
    "    loop.run_until_complete(basic_transcribe(audiofile))\n",
    "    t2 = datetime.now()\n",
    "    t = t2-t1\n",
    "    #print(\"Latency:  {0}\".format(t))\n",
    "    #print(\"asdfasdf\"+norm(globalresult))\n",
    "    #print(f\"file name:{audiofile} , result: {norm(globalresult)}\")\n",
    "    print(f\"file name:{audiofile} , result: {globalresult}\")\n",
    "    #hypothesis.at[index,'LATENCY']=t\n",
    "    index = index+1\n",
    "\n",
    "print(\"---end-----\")\n",
    "#loop.stop()    "
   ]
  },
  {
   "cell_type": "code",
   "execution_count": null,
   "id": "fac48342-89b7-45bf-acfc-333878c71e76",
   "metadata": {},
   "outputs": [],
   "source": []
  }
 ],
 "metadata": {
  "kernelspec": {
   "display_name": "Python 3 (ipykernel)",
   "language": "python",
   "name": "python3"
  },
  "language_info": {
   "codemirror_mode": {
    "name": "ipython",
    "version": 3
   },
   "file_extension": ".py",
   "mimetype": "text/x-python",
   "name": "python",
   "nbconvert_exporter": "python",
   "pygments_lexer": "ipython3",
   "version": "3.11.3"
  }
 },
 "nbformat": 4,
 "nbformat_minor": 5
}
